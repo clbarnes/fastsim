{
 "cells": [
  {
   "cell_type": "markdown",
   "metadata": {},
   "source": [
    "In this notebook we will test re-implementing vertex similarity in Cython and numba to improve performance.\n",
    "\n",
    "As reference: for the MANC dataset we might expect an observation matrix to be up to `(20000, 20000)` and having to do this twice, once for up- and once for downstream connectivity."
   ]
  },
  {
   "cell_type": "code",
   "execution_count": 141,
   "metadata": {},
   "outputs": [],
   "source": [
    "import math\n",
    "\n",
    "import numpy as np\n",
    "import pandas as pd\n",
    "\n",
    "import numba"
   ]
  },
  {
   "cell_type": "code",
   "execution_count": 2,
   "metadata": {},
   "outputs": [],
   "source": [
    "%load_ext Cython"
   ]
  },
  {
   "cell_type": "code",
   "execution_count": 3,
   "metadata": {},
   "outputs": [],
   "source": [
    "# Numpy reference implementation\n",
    "def vertex_sim_ref(mat, C1=0.5, C2=1):\n",
    "    \"\"\"Calculate vertex similarity between two vectors.\n",
    "    \n",
    "    Parameters \n",
    "    ----------\n",
    "    mat :    (N, M) array\n",
    "             Array of M observations for N neurons. Typically an adjacency matrix. \n",
    "    C1,C2 :  float \n",
    "             Tuning parameters. \n",
    "             \n",
    "    Returns \n",
    "    -------\n",
    "    (N, N) array \n",
    "             Pairwise distances.    \n",
    "    \n",
    "    \"\"\"\n",
    "    # Create empty array for results\n",
    "    sims = np.empty(shape=(mat.shape[0], mat.shape[0]), dtype=np.float32)\n",
    "    for i in range(len(mat)):\n",
    "        vecA = mat[i]\n",
    "        for k in range(len(mat)):\n",
    "            vecB = mat[k]\n",
    "            # np.minimum is much faster than np.min(np.vstack(vecA, vecB), axis=1) here\n",
    "            mx = np.maximum(vecA, vecB)\n",
    "            mn = np.minimum(vecA, vecB)\n",
    "\n",
    "            # Implement: f(x,y) = min(x,y) - C1 * max(x,y) * e^(-C2 * min(x,y))\n",
    "            vs = mn - C1 * mx * np.exp(- C2 * mn)\n",
    "\n",
    "            # Sum over all partners and write to results\n",
    "            sims[i, k] = vs.sum()\n",
    "    return sims"
   ]
  },
  {
   "cell_type": "code",
   "execution_count": 139,
   "metadata": {},
   "outputs": [],
   "source": [
    "%%cython --annotate --force\n",
    "# distutils: extra_compile_args=-fopenmp\n",
    "# distutils: extra_link_args=-fopenmp\n",
    "\n",
    "import numpy as np\n",
    "\n",
    "cimport cython\n",
    "from libc.math cimport exp\n",
    "from cython.parallel import prange\n",
    "\n",
    "\n",
    "cdef double vsim(double mx, double mn, double C1, double C2) nogil:\n",
    "    return mn - C1 * mx * exp(- C2 * mn)\n",
    "    \n",
    "\n",
    "@cython.boundscheck(False)\n",
    "@cython.wraparound(False)\n",
    "def vertex_similarity_c(int[:, ::1] mat, double C1=0.5, double C2=1):\n",
    "    \"\"\"Calculate vertex similarity between two vectors.\"\"\"\n",
    "    cdef double mx, mn\n",
    "    cdef int i, k, j\n",
    "    cdef Py_ssize_t N = mat.shape[0]\n",
    "    cdef Py_ssize_t M = mat.shape[1]\n",
    "    \n",
    "    result = np.zeros((N, N), dtype=float)\n",
    "    cdef double[:, ::1] result_view = result      \n",
    "\n",
    "    for i in prange(N, num_threads=10, nogil=True):\n",
    "        for k in range(N):\n",
    "            for j in range(M):\n",
    "                if mat[i, j] > mat[k, j]:\n",
    "                    mx, mn = mat[i, j], mat[k, j]\n",
    "                else:\n",
    "                    mx, mn = mat[k, j], mat[i, j]\n",
    "\n",
    "                result_view[i, k] += vsim(mx, mn, C1, C2)\n",
    "                \n",
    "    return result"
   ]
  },
  {
   "cell_type": "code",
   "execution_count": 155,
   "metadata": {},
   "outputs": [],
   "source": [
    "@numba.jit(fastmath=True, nopython=True, nogil=True, boundscheck=False, parallel=True)\n",
    "def vertex_similarity_numba(mat, C1=0.5, C2=1):\n",
    "    \"\"\"Calculate vertex similarity between two vectors.\"\"\"\n",
    "    sims = np.zeros(shape=(mat.shape[0], mat.shape[0]), dtype=np.float32)\n",
    "    N = mat.shape[0]\n",
    "    M = mat.shape[1]\n",
    "    for i in numba.prange(N):\n",
    "        for k in range(N):\n",
    "            for j in range(M):\n",
    "                if mat[i, j] > mat[k, j]:\n",
    "                    mx, mn = mat[i, j], mat[k, j]\n",
    "                else:\n",
    "                    mx, mn = mat[k, j], mat[i, j]\n",
    "\n",
    "                sims[i, k] += mn - C1 * mx * math.exp(- C2 * mn)\n",
    "    return sims"
   ]
  },
  {
   "cell_type": "code",
   "execution_count": 148,
   "metadata": {},
   "outputs": [],
   "source": [
    "def vertex_similarity_cython(mat, C1=0.5, C2=1):\n",
    "    assert isinstance(mat, np.ndarray)\n",
    "    mat = np.ascontiguousarray(mat)\n",
    "    return np.array(vertex_similarity_c(mat.astype(np.int32),\n",
    "                                        C1=np.float64(C1),\n",
    "                                        C2=np.float64(C2)))"
   ]
  },
  {
   "cell_type": "code",
   "execution_count": 133,
   "metadata": {},
   "outputs": [],
   "source": [
    "# A (1000, 1000) test matrix\n",
    "np.random.seed(1985)\n",
    "adj = np.random.randint(0, 100, size=(1000, 1000))"
   ]
  },
  {
   "cell_type": "code",
   "execution_count": 134,
   "metadata": {},
   "outputs": [
    {
     "name": "stdout",
     "output_type": "stream",
     "text": [
      "20.4 s ± 136 ms per loop (mean ± std. dev. of 7 runs, 1 loop each)\n"
     ]
    }
   ],
   "source": [
    "# Test reference implementation\n",
    "%time _ =  vertex_sim_ref(adj)"
   ]
  },
  {
   "cell_type": "code",
   "execution_count": 138,
   "metadata": {},
   "outputs": [
    {
     "name": "stdout",
     "output_type": "stream",
     "text": [
      "CPU times: user 7.85 s, sys: 10.7 ms, total: 7.86 s\n",
      "Wall time: 7.86 s\n"
     ]
    }
   ],
   "source": [
    "# Test Cython implementation\n",
    "%time _ = vertex_similarity_cython(adj)"
   ]
  },
  {
   "cell_type": "code",
   "execution_count": null,
   "metadata": {},
   "outputs": [
    {
     "name": "stdout",
     "output_type": "stream",
     "text": [
      "CPU times: user 8.92 s, sys: 6.49 ms, total: 8.92 s\n",
      "Wall time: 8.94 s\n"
     ]
    }
   ],
   "source": [
    "# Test numba implementation\n",
    "%time _ = vertex_similarity_numba(adj)"
   ]
  },
  {
   "cell_type": "markdown",
   "metadata": {},
   "source": [
    "Run a test across various matrix sizes"
   ]
  },
  {
   "cell_type": "code",
   "execution_count": 158,
   "metadata": {},
   "outputs": [
    {
     "name": "stderr",
     "output_type": "stream",
     "text": [
      "100%|██████████| 25/25 [09:44<00:00, 23.36s/it]\n"
     ]
    },
    {
     "data": {
      "text/html": [
       "<div>\n",
       "<style scoped>\n",
       "    .dataframe tbody tr th:only-of-type {\n",
       "        vertical-align: middle;\n",
       "    }\n",
       "\n",
       "    .dataframe tbody tr th {\n",
       "        vertical-align: top;\n",
       "    }\n",
       "\n",
       "    .dataframe thead th {\n",
       "        text-align: right;\n",
       "    }\n",
       "</style>\n",
       "<table border=\"1\" class=\"dataframe\">\n",
       "  <thead>\n",
       "    <tr style=\"text-align: right;\">\n",
       "      <th></th>\n",
       "      <th>s</th>\n",
       "      <th>ref</th>\n",
       "      <th>Cython</th>\n",
       "      <th>numba</th>\n",
       "    </tr>\n",
       "  </thead>\n",
       "  <tbody>\n",
       "    <tr>\n",
       "      <th>0</th>\n",
       "      <td>10</td>\n",
       "      <td>0.016018</td>\n",
       "      <td>0.010455</td>\n",
       "      <td>0.012062</td>\n",
       "    </tr>\n",
       "    <tr>\n",
       "      <th>1</th>\n",
       "      <td>30</td>\n",
       "      <td>0.122930</td>\n",
       "      <td>0.070579</td>\n",
       "      <td>0.086713</td>\n",
       "    </tr>\n",
       "    <tr>\n",
       "      <th>2</th>\n",
       "      <td>50</td>\n",
       "      <td>0.276785</td>\n",
       "      <td>0.190900</td>\n",
       "      <td>0.217356</td>\n",
       "    </tr>\n",
       "    <tr>\n",
       "      <th>3</th>\n",
       "      <td>70</td>\n",
       "      <td>0.533512</td>\n",
       "      <td>0.373726</td>\n",
       "      <td>0.435173</td>\n",
       "    </tr>\n",
       "    <tr>\n",
       "      <th>4</th>\n",
       "      <td>90</td>\n",
       "      <td>0.870262</td>\n",
       "      <td>0.614841</td>\n",
       "      <td>0.709402</td>\n",
       "    </tr>\n",
       "  </tbody>\n",
       "</table>\n",
       "</div>"
      ],
      "text/plain": [
       "    s       ref    Cython     numba\n",
       "0  10  0.016018  0.010455  0.012062\n",
       "1  30  0.122930  0.070579  0.086713\n",
       "2  50  0.276785  0.190900  0.217356\n",
       "3  70  0.533512  0.373726  0.435173\n",
       "4  90  0.870262  0.614841  0.709402"
      ]
     },
     "execution_count": 158,
     "metadata": {},
     "output_type": "execute_result"
    }
   ],
   "source": [
    "import time\n",
    "from tqdm import trange\n",
    "\n",
    "timings = []\n",
    "for i in trange(10, 500, 20):\n",
    "    np.random.seed(1985)\n",
    "    adj_test = np.random.randint(0, 100, size=(i, 10000))\n",
    "    \n",
    "    s = time.time()\n",
    "    ref = vertex_sim_ref(adj_test)\n",
    "    t_ref = time.time() - s\n",
    "    \n",
    "    s = time.time()\n",
    "    cy = vertex_similarity_cython(adj_test)\n",
    "    t_cy = time.time() - s\n",
    "    \n",
    "    s = time.time()\n",
    "    nu = vertex_similarity_numba(adj_test)\n",
    "    t_nu = time.time() - s    \n",
    "    \n",
    "    timings.append([i, t_ref, t_cy, t_nu])\n",
    "    \n",
    "timings = pd.DataFrame(timings, columns=['s', 'ref', 'Cython', 'numba'])\n",
    "timings.head()    "
   ]
  },
  {
   "cell_type": "code",
   "execution_count": 159,
   "metadata": {},
   "outputs": [
    {
     "data": {
      "image/png": "[encoded data removed]",
      "text/plain": [
       "<Figure size 700x400 with 1 Axes>"
      ]
     },
     "metadata": {},
     "output_type": "display_data"
    }
   ],
   "source": [
    "import matplotlib.pyplot as plt \n",
    "\n",
    "fig, ax = plt.subplots(figsize=(7, 4))\n",
    "\n",
    "ax.plot(timings.s.values, timings.ref.values, label='pure numpy')\n",
    "ax.plot(timings.s.values, timings.Cython.values, label='Cython')\n",
    "ax.plot(timings.s.values, timings.numba.values, label='numba')\n",
    "\n",
    "ax.set_title('Test on (N, 10000) matrix')\n",
    "ax.set_ylabel('duration [s]')\n",
    "ax.set_xlabel('N')\n",
    "\n",
    "ax.legend()\n",
    "plt.savefig('benchmark.png', dpi=400)\n",
    "plt.show()"
   ]
  },
  {
   "cell_type": "code",
   "execution_count": null,
   "metadata": {},
   "outputs": [],
   "source": []
  }
 ],
 "metadata": {
  "kernelspec": {
   "display_name": "Python 3",
   "language": "python",
   "name": "python3"
  },
  "language_info": {
   "codemirror_mode": {
    "name": "ipython",
    "version": 3
   },
   "file_extension": ".py",
   "mimetype": "text/x-python",
   "name": "python",
   "nbconvert_exporter": "python",
   "pygments_lexer": "ipython3",
   "version": "3.7.5"
  },
  "widgets": {
   "application/vnd.jupyter.widget-state+json": {
    "state": {},
    "version_major": 2,
    "version_minor": 0
   }
  }
 },
 "nbformat": 4,
 "nbformat_minor": 4
}
